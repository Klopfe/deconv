{
 "cells": [
  {
   "cell_type": "markdown",
   "id": "ff4c6669",
   "metadata": {},
   "source": [
    "In this notebook we will demonstrate how to use AC-SVR to estimate different cell types proportions from gene expression profiles. \n",
    "\n",
    "# Simulated dataset\n",
    "\n",
    "We will start by simulating mixture samples using Reference profiles from purified cells.\n",
    "To do so, the datatset called \"Abbas\" in our paper is going to be used. It is accesible via the accession code [GSE11103](https://www.ncbi.nlm.nih.gov/geo/query/acc.cgi?acc=GSE11103) on GEO and can also be found in the AC-SVR package. This dataset is composed of 4 different cell types: Jurkat, Raji, THP-1, IM-9 and for each of the cell type, there are 3 pure gene expression profiles. "
   ]
  }
 ],
 "metadata": {
  "kernelspec": {
   "display_name": "Python 3 (ipykernel)",
   "language": "python",
   "name": "python3"
  },
  "language_info": {
   "codemirror_mode": {
    "name": "ipython",
    "version": 3
   },
   "file_extension": ".py",
   "mimetype": "text/x-python",
   "name": "python",
   "nbconvert_exporter": "python",
   "pygments_lexer": "ipython3",
   "version": "3.7.6"
  }
 },
 "nbformat": 4,
 "nbformat_minor": 5
}
